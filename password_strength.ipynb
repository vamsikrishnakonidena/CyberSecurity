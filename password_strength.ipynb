{
  "cells": [
    {
      "cell_type": "markdown",
      "metadata": {
        "id": "view-in-github",
        "colab_type": "text"
      },
      "source": [
        "<a href=\"https://colab.research.google.com/github/vamsikrishnakonidena/CyberSecurity/blob/PasswordStrength/password_strength.ipynb\" target=\"_parent\"><img src=\"https://colab.research.google.com/assets/colab-badge.svg\" alt=\"Open In Colab\"/></a>"
      ]
    },
    {
      "cell_type": "code",
      "execution_count": null,
      "metadata": {
        "id": "EsP7aUTvxRmN"
      },
      "outputs": [],
      "source": []
    },
    {
      "cell_type": "code",
      "execution_count": null,
      "metadata": {
        "cellView": "code",
        "colab": {
          "base_uri": "https://localhost:8080/"
        },
        "id": "IzgBNl1zBUFJ",
        "outputId": "573f98ba-a958-43bd-deb6-68d192cebed0"
      },
      "outputs": [
        {
          "output_type": "stream",
          "name": "stdout",
          "text": [
            "To know the max time required to crack your password by using brute force attack\n",
            "Enter your password:vamsi7702\n",
            "It may take maximum 26.5 day(s)\n",
            "TIPS\n",
            "Don't use your name/ pet's name/ DOB/ other predicted info\n",
            "Use atleast 14 length password with mixed characters types of lower,upper case letters, digits and special characters\n"
          ]
        }
      ],
      "source": [
        "#importing libraries and dataset(10k most used passwords dataset)\n",
        "import pandas as pd\n",
        "common=pd.read_csv(\"/content/10k-most-common.txt\")\n",
        "#converting into a list\n",
        "common_pass=list(common['password'])\n",
        "print(\"To know the max time required to crack your password by using brute force attack\")\n",
        "your_pass=input(\"Enter your password:\")\n",
        "pass_length=len(your_pass)\n",
        "lower=0\n",
        "upper=0\n",
        "num=0\n",
        "special=0\n",
        "#finding no of lower,upper,num and special characters\n",
        "for i in your_pass:\n",
        "  if i.islower():\n",
        "    lower+=1\n",
        "  elif i.isupper():\n",
        "    upper+=1\n",
        "  elif i.isdigit():\n",
        "    num+=1\n",
        "  else:\n",
        "    special+=1\n",
        "#assuming that a computer checks 100 billion passwords per one second\n",
        "b=10**9\n",
        "fl=0\n",
        "#checking that if user password present in most common passwords\n",
        "if your_pass in common_pass:\n",
        "  fl=1\n",
        "di={}\n",
        "for i in range(26):\n",
        "  di[chr(97+i)]=i\n",
        "for i in range(26):\n",
        "  di[chr(65+i)]=26+i\n",
        "for i in range(10):\n",
        "  di[str(i)]=52+i\n",
        "te=0\n",
        "num_fl=0\n",
        "#couting the maximum no of checks have to be done based on user input\n",
        "if pass_length==num:\n",
        "  te=pass_length**10\n",
        "else:\n",
        "  if special>0:\n",
        "    te=95**pass_length\n",
        "  elif num>0:\n",
        "    for i in range(pass_length):\n",
        "      te+=di[your_pass[i]]*(62**(pass_length-i-1))\n",
        "  elif upper>0:\n",
        "    for i in range(pass_length):\n",
        "      te+=di[your_pass[i]]*(52**(pass_length-i-1))\n",
        "  else:\n",
        "    for i in range(pass_length):\n",
        "      te+=di[your_pass[i]]*(26**(pass_length-i-1))\n",
        "\n",
        "#considering the average time\n",
        "s=round(te/b)/2\n",
        "m=round(te/(b*60))/2\n",
        "h=round(te/(b*60*60))/2\n",
        "d=round(te/(b*60*60*24))/2\n",
        "y=round(te/(b*60*60*24*365))/2\n",
        "\n",
        "if fl==1:\n",
        "  print(\"Your password is in one of the most commmon passwords, it is prone to dictionary attack\")\n",
        "else:\n",
        "  if(y>1):\n",
        "    print(f\"It may take maximum {y} year(s)\")\n",
        "  elif(d>1):\n",
        "    print(f\"It may take maximum {d} day(s)\")\n",
        "  elif(h>1):\n",
        "    print(f\"It may take maximum {h} hour(s)\")\n",
        "  elif(m>1):\n",
        "    print(f\"It may take maximum {m} minute(s)\",)\n",
        "  elif(s>1):\n",
        "    print(f\"It may take maximum {s} second(s)\")\n",
        "  else:\n",
        "    print(f\"It takes less than one second\")\n",
        "\n",
        "print(\"TIPS\")\n",
        "print(\"Don't use your name/ pet's name/ DOB/ other predicted info\")\n",
        "print(\"Use atleast 14 length password with mixed characters types of lower,upper case letters, digits and special characters\")"
      ]
    },
    {
      "cell_type": "code",
      "execution_count": null,
      "metadata": {
        "id": "ujlgJ_LPKo07"
      },
      "outputs": [],
      "source": []
    },
    {
      "cell_type": "code",
      "execution_count": null,
      "metadata": {
        "id": "PJMa76PULMyV"
      },
      "outputs": [],
      "source": []
    },
    {
      "cell_type": "markdown",
      "metadata": {
        "id": "_2RBQndA4Mft"
      },
      "source": []
    },
    {
      "cell_type": "code",
      "execution_count": null,
      "metadata": {
        "id": "ubSobcpD0Kz_"
      },
      "outputs": [],
      "source": []
    },
    {
      "cell_type": "code",
      "execution_count": null,
      "metadata": {
        "id": "xpX5OMMrKoEr"
      },
      "outputs": [],
      "source": []
    },
    {
      "cell_type": "code",
      "execution_count": null,
      "metadata": {
        "id": "5URU2MrthuGY"
      },
      "outputs": [],
      "source": []
    },
    {
      "cell_type": "code",
      "execution_count": null,
      "metadata": {
        "id": "2m3HdCeLVe2X"
      },
      "outputs": [],
      "source": []
    },
    {
      "cell_type": "code",
      "execution_count": null,
      "metadata": {
        "id": "lV85CR43WGCw"
      },
      "outputs": [],
      "source": []
    },
    {
      "cell_type": "code",
      "execution_count": null,
      "metadata": {
        "id": "v78dy4Rbed6-"
      },
      "outputs": [],
      "source": []
    },
    {
      "cell_type": "code",
      "execution_count": null,
      "metadata": {
        "id": "sth95TdpXHnO"
      },
      "outputs": [],
      "source": []
    }
  ],
  "metadata": {
    "colab": {
      "provenance": [],
      "authorship_tag": "ABX9TyPqIooKKnRVhCCW7Jz36dOE",
      "include_colab_link": true
    },
    "kernelspec": {
      "display_name": "Python 3",
      "name": "python3"
    },
    "language_info": {
      "name": "python"
    }
  },
  "nbformat": 4,
  "nbformat_minor": 0
}